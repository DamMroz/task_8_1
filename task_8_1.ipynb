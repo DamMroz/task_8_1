{
 "cells": [
  {
   "cell_type": "code",
   "execution_count": 57,
   "id": "7cb68e5c",
   "metadata": {},
   "outputs": [],
   "source": [
    "import numpy as np\n",
    "import pandas as pd"
   ]
  },
  {
   "cell_type": "code",
   "execution_count": 58,
   "id": "7f46f4c0",
   "metadata": {},
   "outputs": [],
   "source": [
    "df = pd.read_csv('data1.csv')"
   ]
  },
  {
   "cell_type": "code",
   "execution_count": 59,
   "id": "88a84d52",
   "metadata": {},
   "outputs": [],
   "source": [
    "df.rename(columns={'TITLE': 'TYTUŁ','ARTIST': 'ARTYSTA', 'YEAR': \"ROK\", 'HIGH POSN': 'MAX POZ'},inplace=True)"
   ]
  },
  {
   "cell_type": "code",
   "execution_count": 60,
   "id": "e343ac54",
   "metadata": {},
   "outputs": [
    {
     "data": {
      "text/plain": [
       "47"
      ]
     },
     "execution_count": 60,
     "metadata": {},
     "output_type": "execute_result"
    }
   ],
   "source": [
    "df[\"ARTYSTA\"].nunique()"
   ]
  },
  {
   "cell_type": "markdown",
   "id": "9b23c6cf",
   "metadata": {},
   "source": [
    "47 pojedynczych artystów"
   ]
  },
  {
   "cell_type": "code",
   "execution_count": 61,
   "id": "3aacc7d5",
   "metadata": {},
   "outputs": [
    {
     "data": {
      "text/plain": [
       "0     COLDPLAY\n",
       "1    TAKE THAT\n",
       "Name: ARTYSTA, dtype: object"
      ]
     },
     "execution_count": 61,
     "metadata": {},
     "output_type": "execute_result"
    }
   ],
   "source": [
    "df['ARTYSTA'].mode()"
   ]
  },
  {
   "cell_type": "markdown",
   "id": "aa947c21",
   "metadata": {},
   "source": [
    "Najczęściej pojawiają się COLDPLAY i TAKE THAT"
   ]
  },
  {
   "cell_type": "code",
   "execution_count": 62,
   "id": "bcbac546",
   "metadata": {},
   "outputs": [],
   "source": [
    "df.rename(str.title, axis='columns',inplace=True)"
   ]
  },
  {
   "cell_type": "code",
   "execution_count": 63,
   "id": "a9755f04",
   "metadata": {},
   "outputs": [],
   "source": [
    "df.drop('Max Poz',axis=1,inplace=True)"
   ]
  },
  {
   "cell_type": "code",
   "execution_count": 64,
   "id": "b7275ebb",
   "metadata": {},
   "outputs": [
    {
     "data": {
      "text/plain": [
       "0    1987\n",
       "1    2000\n",
       "Name: Rok, dtype: int64"
      ]
     },
     "execution_count": 64,
     "metadata": {},
     "output_type": "execute_result"
    }
   ],
   "source": [
    "df['Rok'].mode()"
   ]
  },
  {
   "cell_type": "markdown",
   "id": "51dc7c6f",
   "metadata": {},
   "source": [
    "Najwięcej albumów wyszło w roko 1987 i 2000"
   ]
  },
  {
   "cell_type": "code",
   "execution_count": 65,
   "id": "7be2b103",
   "metadata": {},
   "outputs": [
    {
     "data": {
      "text/plain": [
       "22"
      ]
     },
     "execution_count": 65,
     "metadata": {},
     "output_type": "execute_result"
    }
   ],
   "source": [
    "df[(df['Rok'] >= 1960) & (df['Rok']<=1990)].count()['Rok']"
   ]
  },
  {
   "cell_type": "markdown",
   "id": "95d9a8db",
   "metadata": {},
   "source": [
    "22 albumów wyszło między 1960 a 1990"
   ]
  },
  {
   "cell_type": "code",
   "execution_count": 66,
   "id": "ad8b2fd5",
   "metadata": {},
   "outputs": [
    {
     "data": {
      "text/plain": [
       "2015"
      ]
     },
     "execution_count": 66,
     "metadata": {},
     "output_type": "execute_result"
    }
   ],
   "source": [
    "df['Rok'].max()"
   ]
  },
  {
   "cell_type": "markdown",
   "id": "f6fa382d",
   "metadata": {},
   "source": [
    "Najmłodszy album jest z roku 2015"
   ]
  },
  {
   "cell_type": "code",
   "execution_count": 67,
   "id": "0093bdbd",
   "metadata": {},
   "outputs": [],
   "source": [
    "df_modified = df.loc[df.groupby('Artysta',sort=True)['Rok'].idxmin()]"
   ]
  },
  {
   "cell_type": "code",
   "execution_count": 68,
   "id": "15c8353e",
   "metadata": {},
   "outputs": [],
   "source": [
    "df_modified.to_csv('modified_list.csv', index=False) "
   ]
  }
 ],
 "metadata": {
  "kernelspec": {
   "display_name": "Python 3 (ipykernel)",
   "language": "python",
   "name": "python3"
  },
  "language_info": {
   "codemirror_mode": {
    "name": "ipython",
    "version": 3
   },
   "file_extension": ".py",
   "mimetype": "text/x-python",
   "name": "python",
   "nbconvert_exporter": "python",
   "pygments_lexer": "ipython3",
   "version": "3.11.7"
  }
 },
 "nbformat": 4,
 "nbformat_minor": 5
}
